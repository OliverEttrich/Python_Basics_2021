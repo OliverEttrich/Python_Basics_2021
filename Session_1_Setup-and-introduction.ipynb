{
 "cells": [
  {
   "cell_type": "markdown",
   "metadata": {
    "jp-MarkdownHeadingCollapsed": true,
    "tags": []
   },
   "source": [
    "\n",
    "![SVG from www](https://upload.wikimedia.org/wikipedia/commons/thumb/a/a2/Kühne_Logistics_University_logo_2019.svg/100px-Kühne_Logistics_University_logo_2019.svg.png)  \n",
    "# Introduction to Python  \n",
    "## The basics of python at Kuehne Logistics University  \n",
    "## Sep-2020  "
   ]
  },
  {
   "cell_type": "markdown",
   "metadata": {
    "tags": []
   },
   "source": [
    "# Session 1:   \n",
    "Introduction to python 3 programming language. We will set up the python environment, install python and introduce them to online support resources (Chapters 1, 2 and 3 of the mandatory book)."
   ]
  },
  {
   "cell_type": "markdown",
   "metadata": {
    "tags": []
   },
   "source": [
    "# Python  \n",
    "There are natural languages and programming languages (formal language):\n",
    "- Ambiguety\n",
    "- Redundancy  \n",
    "\n",
    "Python is a programming language similar to other languages such as: C++ or JavaScript.  \n",
    "In this course we will use Python 3 launched in 2008."
   ]
  },
  {
   "cell_type": "markdown",
   "metadata": {},
   "source": [
    "# 1) Firstly: Python development environments\n",
    "These are code editors that facilitates the coding and debugging. Here a list of some of the more popular ones that you can choose to use:"
   ]
  },
  {
   "cell_type": "markdown",
   "metadata": {},
   "source": [
    "## 1- Pycharm  \n",
    "![SVG from www](https://dashboard.snapcraft.io/site_media/appmedia/2017/11/PyCharmCore256.png)  \n",
    "\n",
    "This is the one recommended by the book that we are NOT going to use during this course.  \n",
    "- Download the pycharm IDE: https://www.jetbrains.com/   \n",
    "- Find the shortcut map for Windows: https://resources.jetbrains.com/storage/products/pycharm/docs/PyCharm_ReferenceCard.pdf?_ga=2.30166591.1046451985.1597140235-1149537143.1597140235  \n",
    "- And for Mac: https://resources.jetbrains.com/storage/products/pycharm/docs/PyCharm_ReferenceCard_mac.pdf?_ga=2.30166591.1046451985.1597140235-1149537143.1597140235"
   ]
  },
  {
   "cell_type": "markdown",
   "metadata": {
    "jp-MarkdownHeadingCollapsed": true,
    "tags": []
   },
   "source": [
    "## 2- JupyterLab  \n",
    "\n",
    "\n",
    "\n",
    "![SVG from www](data:image/jpeg;base64,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)\n",
    "\n",
    "Download Link: https://jupyter.org/install.html"
   ]
  },
  {
   "cell_type": "markdown",
   "metadata": {},
   "source": [
    "## 3- Spyder  \n",
    "![SVG from www](https://upload.wikimedia.org/wikipedia/commons/thumb/7/7e/Spyder_logo.svg/185px-Spyder_logo.svg.png)  \n",
    " \n",
    "Download Link: https://www.spyder-ide.org/"
   ]
  },
  {
   "cell_type": "markdown",
   "metadata": {},
   "source": [
    "# 2) Secondly: get a github account!"
   ]
  },
  {
   "cell_type": "markdown",
   "metadata": {},
   "source": [
    "- We recommend you to get a github account in https://github.com"
   ]
  },
  {
   "cell_type": "markdown",
   "metadata": {},
   "source": [
    "- github is a repository and it is very useful for collaborative developments because many people are allowed to participate, contribute, pull requests in order to merge different works."
   ]
  },
  {
   "cell_type": "markdown",
   "metadata": {},
   "source": [
    "- Find the book examples and exercises in: https://github.com/johnehunt/beginnerspython3.git"
   ]
  },
  {
   "cell_type": "markdown",
   "metadata": {},
   "source": [
    "# 3) Why learn Python?  \n",
    "1- Easy to learn  \n",
    "2- Data Science Community uses it and it provides standards  \n",
    "3- It runs in almost all operation systems  \n",
    "4- It has many libraries  \n",
    "5- It is free!  \n",
    "\n"
   ]
  },
  {
   "cell_type": "markdown",
   "metadata": {},
   "source": [
    "## Useful resources:  \n",
    "- https://docs.python.org/3/ The main Python 3 documentation site. It contains tutorials, library references, set up and installation guides as well as Python how-tos.  \n",
    "- https://www.fullstackpython.com/email.html is a monthly newsletter that focusses on a single Python topic each month, such as a new library or module.  \n",
    "- https://stackoverflow.com/ for specific coding questions that you might have."
   ]
  },
  {
   "cell_type": "markdown",
   "metadata": {
    "tags": []
   },
   "source": [
    "# Python set up  \n",
    "- Type python in your terminal  \n",
    "- Download python: http://www.python.org  \n",
    "- Run your first script: print('Hello World')  \n",
    "- exit()"
   ]
  },
  {
   "cell_type": "markdown",
   "metadata": {
    "tags": []
   },
   "source": [
    "## Menu Bar\n",
    "The menu bar is at the top of window. The default menus you can find in this are −'\n",
    "\n",
    "File − Actions related to files and directories.\n",
    "\n",
    "Edit − Actions related to editing documents and other activities.\n",
    "\n",
    "View − Actions that alter the appearance of JupyterLab.\n",
    "\n",
    "Run − Actions for running code in different activities such as notebooks and code consoles.\n",
    "\n",
    "Kernel − Actions for managing kernels, which are separate processes for running code.\n",
    "\n",
    "Tabs − A list of the open documents and activities in the dock panel.\n",
    "\n",
    "Settings − Common settings and an advanced settings editor.\n",
    "\n",
    "Help − A list of JupyterLab and kernel help links.\n",
    "\n",
    "The left sidebar shows buttons for starting a new launcher, adding a folder, uploading file and refresh file list. The right pane is the main working area where notebook, console and terminals are shown in tabbed view.\n",
    "\n",
    "To start a new console, click + symbol in the left side bar to open a new launcher and then click the console option. The console will open in new tab on the right pane."
   ]
  },
  {
   "cell_type": "markdown",
   "metadata": {},
   "source": [
    "Note that the input cell is at the bottom, but when it is run, the cell and its corresponding output cell appears in upper part of console tab.\n",
    "\n",
    "The launcher also allows you open a text editor and a terminal in which IPython shell can be invoked."
   ]
  },
  {
   "cell_type": "markdown",
   "metadata": {},
   "source": [
    "## Before we start... some Shortcuts for you:\n",
    " - ESC takes users into command mode view\n",
    " - ENTER takes users into cell mode view\n",
    "\n",
    " ### In Cell Mode\n",
    " - Ctrl + Enter = Run the cell\n",
    " - Shift + Enter = Run the cell and select the cell below\n",
    " - Alt + Enter = Run the cell and insert a new cell below\n",
    " - Ctrl + # = Make selected line a comment\n",
    " - TAB = make an indentation to the next level\n",
    " - Shif + Tab = take the indentation back to the previous level \n",
    " \n",
    " ### In Command Mode\n",
    " - B = inserts a cell below the currently selected cell\n",
    " - D + D = Pressing D two times in a quick succession in command mode deletes the currently selected cell\n",
    " - M = change current cell to a markdown cell, Y = change it to a code cell,  R = change it to a raw cell\n",
    " \n",
    " - Ctrl + S = Save\n",
    "\n"
   ]
  },
  {
   "cell_type": "markdown",
   "metadata": {},
   "source": [
    "# 4) Python code to draw"
   ]
  },
  {
   "cell_type": "code",
   "execution_count": null,
   "metadata": {},
   "outputs": [],
   "source": [
    "# Predefined variables in Python e.g. list, dict, sum, print...\n",
    "\n"
   ]
  },
  {
   "cell_type": "code",
   "execution_count": null,
   "metadata": {},
   "outputs": [],
   "source": [
    "# Does not work for custom functions, so be aware in the future!\n",
    "\n"
   ]
  },
  {
   "cell_type": "code",
   "execution_count": 8,
   "metadata": {},
   "outputs": [
    {
     "name": "stdout",
     "output_type": "stream",
     "text": [
      "   /|\n",
      "  / |\n",
      " /  |\n",
      "/___|\n"
     ]
    }
   ],
   "source": [
    "# Printing (displaying) text that you write. It may not seem important but this may be one of the most important commands in all of Python!\n",
    "\n",
    "print(\"   /|\")\n",
    "print(\"  / |\")\n",
    "print(\" /  |\")\n",
    "print(\"/___|\")"
   ]
  },
  {
   "cell_type": "markdown",
   "metadata": {},
   "source": [
    "The instructions need to be in order (Ambiguity)"
   ]
  },
  {
   "cell_type": "markdown",
   "metadata": {},
   "source": [
    "# 5) Run your first program  "
   ]
  },
  {
   "cell_type": "markdown",
   "metadata": {},
   "source": [
    "There are different ways of running a program:  \n",
    "- Using the python interpreter  \n",
    "- Stored in a file and run using the python command  \n",
    "- Run as a script file specifying the environment  \n",
    "- From whithin a Python development environment such as Jupyter"
   ]
  },
  {
   "cell_type": "code",
   "execution_count": 12,
   "metadata": {},
   "outputs": [
    {
     "name": "stdout",
     "output_type": "stream",
     "text": [
      "Hello World\n"
     ]
    }
   ],
   "source": [
    "print('Hello World')"
   ]
  },
  {
   "cell_type": "code",
   "execution_count": 22,
   "metadata": {},
   "outputs": [
    {
     "name": "stdin",
     "output_type": "stream",
     "text": [
      "Enter your name:  Oli\n"
     ]
    }
   ],
   "source": [
    "user_name = input('Enter your name: ' )"
   ]
  },
  {
   "cell_type": "code",
   "execution_count": 20,
   "metadata": {},
   "outputs": [],
   "source": [
    "# The variable we just assigned can be read on its own...\n",
    "user_name = 123"
   ]
  },
  {
   "cell_type": "code",
   "execution_count": 21,
   "metadata": {},
   "outputs": [
    {
     "data": {
      "text/plain": [
       "123"
      ]
     },
     "execution_count": 21,
     "metadata": {},
     "output_type": "execute_result"
    }
   ],
   "source": [
    "# Also, Python is CASE SENSITIVE!\n",
    "user_name"
   ]
  },
  {
   "cell_type": "code",
   "execution_count": 23,
   "metadata": {},
   "outputs": [
    {
     "name": "stdout",
     "output_type": "stream",
     "text": [
      "Hello Oli\n"
     ]
    }
   ],
   "source": [
    "# Or be used in the context of any function that supports this data type\n",
    "print('Hello', user_name)"
   ]
  },
  {
   "cell_type": "code",
   "execution_count": 28,
   "metadata": {},
   "outputs": [
    {
     "name": "stdout",
     "output_type": "stream",
     "text": [
      "Oli Caspar\n"
     ]
    }
   ],
   "source": [
    "print(name, name2)"
   ]
  },
  {
   "cell_type": "code",
   "execution_count": 26,
   "metadata": {},
   "outputs": [
    {
     "name": "stdout",
     "output_type": "stream",
     "text": [
      "Hello, world\n"
     ]
    },
    {
     "name": "stdin",
     "output_type": "stream",
     "text": [
      "Enter your name:  Oli\n"
     ]
    },
    {
     "name": "stdout",
     "output_type": "stream",
     "text": [
      "Hello Oli\n"
     ]
    },
    {
     "name": "stdin",
     "output_type": "stream",
     "text": [
      "What is the name of your best friend:  Caspar\n"
     ]
    },
    {
     "name": "stdout",
     "output_type": "stream",
     "text": [
      "Hello Best Friend Caspar\n"
     ]
    }
   ],
   "source": [
    "print('Hello, world')\n",
    "name = input('Enter your name: ')\n",
    "print('Hello', name)\n",
    "name2 = input('What is the name of your best friend: ')\n",
    "print('Hello Best Friend', name2)"
   ]
  },
  {
   "cell_type": "code",
   "execution_count": 29,
   "metadata": {},
   "outputs": [
    {
     "name": "stdout",
     "output_type": "stream",
     "text": [
      "John\n",
      "42\n",
      "True\n"
     ]
    }
   ],
   "source": [
    "my_variable = 'John'\n",
    "print(my_variable)\n",
    "my_variable = 42\n",
    "print(my_variable)\n",
    "my_variable = True\n",
    "print(my_variable)"
   ]
  },
  {
   "cell_type": "code",
   "execution_count": 30,
   "metadata": {},
   "outputs": [
    {
     "name": "stdin",
     "output_type": "stream",
     "text": [
      "Enter your name:  Oli\n"
     ]
    },
    {
     "name": "stdout",
     "output_type": "stream",
     "text": [
      "Oli\n"
     ]
    }
   ],
   "source": [
    "# This is a comment\n",
    "# hi\n",
    "name = input('Enter your name: ')\n",
    "# This is another comment\n",
    "print(name) # this is a comment to the end of the line"
   ]
  },
  {
   "cell_type": "markdown",
   "metadata": {},
   "source": [
    "- So, variables can hold any string such as \"Oli\" or \"Johanna\" as well as it can hold other type of data such as numbers or the values 'True' and 'False'.\n",
    "- Be aware of naming conventions: always use underscores and not spaces and always in lower case.\n",
    "- Assignment operators \"=\".\n",
    "- Statements: an instruction that the Python interpreter can execute\n",
    "- Comments in the code: '#'"
   ]
  },
  {
   "cell_type": "markdown",
   "metadata": {},
   "source": [
    "### Math with Python\n",
    "- all mathematical operators are valid and need to be entered as you would in any real function\n",
    "- variables can be used to store and access mathematical values \n",
    "- ** for exponents, NOT \"^\"\n",
    "- // floor division\n",
    "- % Modulus (the remainder)\n",
    "- \"+=\", \"-=\", \"/=\", and \"*=\" add/substract/divide/multiply and assign\n"
   ]
  },
  {
   "cell_type": "code",
   "execution_count": 32,
   "metadata": {},
   "outputs": [
    {
     "name": "stdout",
     "output_type": "stream",
     "text": [
      "1\n",
      "2\n",
      "1.2\n",
      "3.141592653589793\n",
      "8.306623862918075\n",
      "21.74697499310181\n"
     ]
    }
   ],
   "source": [
    "import math\n",
    "a = 1\n",
    "b = 2\n",
    "c = 1.2\n",
    "d = math.pi\n",
    "e = math.sqrt(69)\n",
    "f = ((((a)+b)-c/d)*e)\n",
    "\n",
    "print(a)\n",
    "print(b)\n",
    "print(c)\n",
    "print(d)\n",
    "print(e)\n",
    "print(f)"
   ]
  },
  {
   "cell_type": "code",
   "execution_count": 33,
   "metadata": {},
   "outputs": [
    {
     "name": "stdout",
     "output_type": "stream",
     "text": [
      "2\n"
     ]
    }
   ],
   "source": [
    "a = 1\n",
    "a = a + 1\n",
    "print(a)"
   ]
  },
  {
   "cell_type": "code",
   "execution_count": 34,
   "metadata": {},
   "outputs": [
    {
     "data": {
      "text/plain": [
       "2"
      ]
     },
     "execution_count": 34,
     "metadata": {},
     "output_type": "execute_result"
    }
   ],
   "source": [
    "a = 1\n",
    "a += 1\n",
    "a"
   ]
  },
  {
   "cell_type": "markdown",
   "metadata": {
    "tags": []
   },
   "source": [
    "# Exercises"
   ]
  },
  {
   "cell_type": "markdown",
   "metadata": {},
   "source": [
    "__Ex1__: Create a program that displays your name and complete mailing address formatted in\n",
    "the manner that you would usually see it on the outside of an envelope. Your program\n",
    "does not need to read any input from the user"
   ]
  },
  {
   "cell_type": "markdown",
   "metadata": {},
   "source": [
    "__Ex2:__ Write a program that asks the user to enter his or her name. The program should\n",
    "respond with a message that says hello to the user, using his or her name"
   ]
  },
  {
   "cell_type": "markdown",
   "metadata": {},
   "source": [
    "__Ex3:__ Write a program that asks the user his age. The program should deliver a text that says \"Hello, I am _ years old\" with the users' age."
   ]
  },
  {
   "cell_type": "markdown",
   "metadata": {},
   "source": [
    "__Ex4:__ Write a program that asks the user to enter the width and length of a room. Once the values have been read, your program should compute and display the area of the room. The length and the width will be entered as floating point numbers. Include units in your prompt and output message; either feet or meters, depending on which unit you are more comfortable working with."
   ]
  },
  {
   "cell_type": "markdown",
   "metadata": {},
   "source": [
    "__Ex 5:__ Create a program that reads the length and width of a farmer’s field from the user in feet. Display the area of the field in acres.\n",
    "Hint: There are 43,560 square feet in an acre."
   ]
  },
  {
   "cell_type": "markdown",
   "metadata": {},
   "source": [
    "__Ex 5:__ Write a program that reads a positive integer, n, from the user and then displays the sum of all of the integers from 1 to n. The sum of the first n positive integers can be computed  the formula:  \n"
   ]
  },
  {
   "cell_type": "markdown",
   "metadata": {},
   "source": [
    "$$sum =  \\displaystyle \\frac{(n)(n+1)}{2}$$\n"
   ]
  }
 ],
 "metadata": {
  "kernelspec": {
   "display_name": "Python 3 (ipykernel)",
   "language": "python",
   "name": "python3"
  },
  "language_info": {
   "codemirror_mode": {
    "name": "ipython",
    "version": 3
   },
   "file_extension": ".py",
   "mimetype": "text/x-python",
   "name": "python",
   "nbconvert_exporter": "python",
   "pygments_lexer": "ipython3",
   "version": "3.9.6"
  }
 },
 "nbformat": 4,
 "nbformat_minor": 4
}
